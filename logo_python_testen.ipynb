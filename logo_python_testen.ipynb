{
 "cells": [
  {
   "cell_type": "markdown",
   "metadata": {},
   "source": [
    "https://siincos.com/mit-snap7-and-python-prozessdaten-aus-der-logo8-auslesen.html"
   ]
  },
  {
   "cell_type": "code",
   "execution_count": 1,
   "metadata": {},
   "outputs": [],
   "source": [
    "import snap7\n",
    "import time"
   ]
  },
  {
   "cell_type": "code",
   "execution_count": 18,
   "metadata": {},
   "outputs": [
    {
     "name": "stdout",
     "output_type": "stream",
     "text": [
      "Connected to LOGO!8\n"
     ]
    },
    {
     "ename": "KeyboardInterrupt",
     "evalue": "",
     "output_type": "error",
     "traceback": [
      "\u001b[1;31m---------------------------------------------------------------------------\u001b[0m",
      "\u001b[1;31mKeyboardInterrupt\u001b[0m                         Traceback (most recent call last)",
      "Cell \u001b[1;32mIn[18], line 28\u001b[0m\n\u001b[0;32m     25\u001b[0m plc\u001b[38;5;241m.\u001b[39mwrite(NI3, \u001b[38;5;241m1\u001b[39m)\n\u001b[0;32m     26\u001b[0m plc\u001b[38;5;241m.\u001b[39mwrite(NI4, \u001b[38;5;241m1\u001b[39m)\n\u001b[1;32m---> 28\u001b[0m \u001b[43mtime\u001b[49m\u001b[38;5;241;43m.\u001b[39;49m\u001b[43msleep\u001b[49m\u001b[43m(\u001b[49m\u001b[38;5;241;43m3\u001b[39;49m\u001b[43m)\u001b[49m\n\u001b[0;32m     29\u001b[0m plc\u001b[38;5;241m.\u001b[39mwrite(NI1, \u001b[38;5;241m0\u001b[39m)\n\u001b[0;32m     30\u001b[0m plc\u001b[38;5;241m.\u001b[39mwrite(NI2, \u001b[38;5;241m0\u001b[39m)\n",
      "\u001b[1;31mKeyboardInterrupt\u001b[0m: "
     ]
    }
   ],
   "source": [
    "plc = snap7.logo.Logo()\n",
    "#IP Server, TSAP Client, TSAP Server\n",
    "\n",
    "plc.connect(\"169.254.116.131\", 0x3000, 0x2000)\n",
    "\n",
    "if plc.get_connected():\n",
    "    print(\"Connected to LOGO!8\")\n",
    "\n",
    "    while(True):\n",
    "        \n",
    "        # the code can access a network block (baustein) and set a value which can be used later in the logo project\n",
    "        #\n",
    "        # example : Project_logo_q1_q4_works.snp\n",
    "        #\n",
    "        # the network inputs in the logo which are connected with the outputs q1\n",
    "        #project found in Project_logo_q1_q4_works.snp\n",
    "        # The adress is manualy mapped by double click on the network baustein\n",
    "        NI1 = \"V0.0\" # define virtual input address\n",
    "        NI2 = \"V1.0\"\n",
    "        NI3 = \"V2.0\"\n",
    "        NI4 = \"V3.0\"\n",
    "   # write logical \"true\" to virtual digital input\n",
    "        plc.write(NI1, 1)\n",
    "        plc.write(NI2, 1)\n",
    "        plc.write(NI3, 1)\n",
    "        plc.write(NI4, 1)\n",
    "\n",
    "        time.sleep(3)\n",
    "        plc.write(NI1, 0)\n",
    "        plc.write(NI2, 0)\n",
    "        plc.write(NI3, 0)\n",
    "        plc.write(NI4, 0)\n",
    "        time.sleep(3)\n",
    "\n",
    "else:\n",
    "    pass\n",
    "\n",
    "plc.disconnect()\n",
    "plc.destroy()"
   ]
  }
 ],
 "metadata": {
  "kernelspec": {
   "display_name": "ml_9",
   "language": "python",
   "name": "python3"
  },
  "language_info": {
   "codemirror_mode": {
    "name": "ipython",
    "version": 3
   },
   "file_extension": ".py",
   "mimetype": "text/x-python",
   "name": "python",
   "nbconvert_exporter": "python",
   "pygments_lexer": "ipython3",
   "version": "3.9.7"
  }
 },
 "nbformat": 4,
 "nbformat_minor": 2
}
