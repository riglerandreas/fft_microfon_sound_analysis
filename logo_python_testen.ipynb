{
 "cells": [
  {
   "cell_type": "markdown",
   "metadata": {},
   "source": [
    "https://siincos.com/mit-snap7-and-python-prozessdaten-aus-der-logo8-auslesen.html"
   ]
  },
  {
   "cell_type": "code",
   "execution_count": 1,
   "metadata": {},
   "outputs": [],
   "source": [
    "import snap7\n",
    "import time"
   ]
  },
  {
   "cell_type": "code",
   "execution_count": 40,
   "metadata": {},
   "outputs": [
    {
     "name": "stdout",
     "output_type": "stream",
     "text": [
      "Connected to LOGO!8\n"
     ]
    },
    {
     "ename": "KeyboardInterrupt",
     "evalue": "",
     "output_type": "error",
     "traceback": [
      "\u001b[1;31m---------------------------------------------------------------------------\u001b[0m",
      "\u001b[1;31mKeyboardInterrupt\u001b[0m                         Traceback (most recent call last)",
      "Cell \u001b[1;32mIn[40], line 33\u001b[0m\n\u001b[0;32m     31\u001b[0m         plc\u001b[38;5;241m.\u001b[39mwrite(NI3, \u001b[38;5;241m0\u001b[39m)\n\u001b[0;32m     32\u001b[0m         plc\u001b[38;5;241m.\u001b[39mwrite(NI4, \u001b[38;5;241m0\u001b[39m)\n\u001b[1;32m---> 33\u001b[0m         \u001b[43mtime\u001b[49m\u001b[38;5;241;43m.\u001b[39;49m\u001b[43msleep\u001b[49m\u001b[43m(\u001b[49m\u001b[38;5;241;43m3\u001b[39;49m\u001b[43m)\u001b[49m\n\u001b[0;32m     35\u001b[0m \u001b[38;5;28;01melse\u001b[39;00m:\n\u001b[0;32m     36\u001b[0m     \u001b[38;5;28mprint\u001b[39m(\u001b[38;5;124m'\u001b[39m\u001b[38;5;124mno connection\u001b[39m\u001b[38;5;124m'\u001b[39m)\n",
      "\u001b[1;31mKeyboardInterrupt\u001b[0m: "
     ]
    }
   ],
   "source": [
    "plc = snap7.logo.Logo()\n",
    "#IP Server, TSAP Client, TSAP Server\n",
    "\n",
    "plc.connect(\"169.254.116.131\", 0x3000, 0x2000)\n",
    "\n",
    "if plc.get_connected():\n",
    "    print(\"Connected to LOGO!8\")\n",
    "\n",
    "    while(True):\n",
    "        \n",
    "        # the code can access a network block (baustein) and set a value which can be used later in the logo project\n",
    "        #\n",
    "        # example : Project_logo_q1_q4_works.snp\n",
    "        #\n",
    "        # the network inputs in the logo which are connected with the outputs q1\n",
    "        #project found in Project_logo_q1_q4_works.snp\n",
    "        # The adress is manualy mapped by double click on the network baustein\n",
    "        NI1 = \"V0.0\" # define virtual input address\n",
    "        NI2 = \"V1.0\"\n",
    "        NI3 = \"V2.0\"\n",
    "        NI4 = \"V3.0\"\n",
    "   # write logical \"true\" to virtual digital input\n",
    "        plc.write(NI1, 1)\n",
    "        plc.write(NI2, 1)\n",
    "        plc.write(NI3, 1)\n",
    "        plc.write(NI4, 1)\n",
    "\n",
    "        time.sleep(3)\n",
    "        plc.write(NI1, 0)\n",
    "        plc.write(NI2, 0)\n",
    "        plc.write(NI3, 0)\n",
    "        plc.write(NI4, 0)\n",
    "        time.sleep(3)\n",
    "\n",
    "else:\n",
    "    print('no connection')\n",
    "    pass\n",
    "\n",
    "plc.disconnect()\n",
    "plc.destroy()"
   ]
  },
  {
   "cell_type": "code",
   "execution_count": 9,
   "metadata": {},
   "outputs": [
    {
     "data": {
      "text/plain": [
       "0"
      ]
     },
     "execution_count": 9,
     "metadata": {},
     "output_type": "execute_result"
    }
   ],
   "source": [
    "import pandas as pd\n",
    "df_motor_init = pd.DataFrame({'motor': [1,2,3,4,5,6],\n",
    "                               'signal':[0,0,0,0,0,0]})\n",
    "\n",
    "int(df_motor_init[df_motor_init.motor ==1 ].signal)"
   ]
  },
  {
   "cell_type": "code",
   "execution_count": 53,
   "metadata": {},
   "outputs": [],
   "source": [
    "def write_to_logo(df_motor, plc_connected):\n",
    "\n",
    "\n",
    "        if plc.get_connected():\n",
    "                print(\"Connected to LOGO!8\")\n",
    "\n",
    "\n",
    "                # the code can access a network block (baustein) and set a value which can be used later in the logo project\n",
    "                #\n",
    "                # example : Project_logo_q1_q4_works.snp\n",
    "                #\n",
    "                # the network inputs in the logo which are connected with the outputs q1\n",
    "                #project found in Project_logo_q1_q4_works.snp\n",
    "                # The adress is manualy mapped by double click on the network baustein\n",
    "                NI1_motor_1 = \"V0.0\" # define virtual input address\n",
    "                NI2_motor_2 = \"V1.0\"\n",
    "                NI3_motor_3 = \"V2.0\"\n",
    "                NI4_motor_4 = \"V3.0\"\n",
    "\n",
    "                #get the values from the dataframe:\n",
    "\n",
    "                signal_motor_1 = int(df_motor[df_motor.motor ==1 ].signal)\n",
    "                signal_motor_2 = int(df_motor[df_motor.motor ==2 ].signal)\n",
    "                signal_motor_3 = int(df_motor[df_motor.motor ==3 ].signal)\n",
    "                signal_motor_4 = int(df_motor[df_motor.motor ==4 ].signal)\n",
    "\n",
    "\n",
    "                # write signal (1 = true, 0 = false) to virtual digital input\n",
    "                time.sleep(1)\n",
    "                plc.write(NI1, signal_motor_1)\n",
    "                plc.write(NI2, signal_motor_2)\n",
    "                plc.write(NI3, signal_motor_3)\n",
    "                plc.write(NI4, signal_motor_4)\n",
    "        else:\n",
    "                print('no connection to logo')\n",
    "                pass\n",
    "                \n",
    "\n",
    "\n",
    "\n",
    "\n",
    "    "
   ]
  },
  {
   "cell_type": "code",
   "execution_count": 24,
   "metadata": {},
   "outputs": [
    {
     "data": {
      "text/plain": [
       "<snap7.logo.Logo at 0x228c6a782e0>"
      ]
     },
     "execution_count": 24,
     "metadata": {},
     "output_type": "execute_result"
    }
   ],
   "source": []
  },
  {
   "cell_type": "code",
   "execution_count": 52,
   "metadata": {},
   "outputs": [
    {
     "name": "stdout",
     "output_type": "stream",
     "text": [
      "Connected to LOGO!8\n",
      "0\n",
      "writen\n",
      "34\n",
      "destroy\n"
     ]
    },
    {
     "data": {
      "text/plain": [
       "-1002817616"
      ]
     },
     "execution_count": 52,
     "metadata": {},
     "output_type": "execute_result"
    }
   ],
   "source": [
    "\n",
    "df_motor_test = pd.DataFrame({'motor': [1,2,3,4,5,6],\n",
    "                               'signal':[1,0,0,1,0,0]})\n",
    "\n",
    "\n",
    "plc = snap7.logo.Logo()\n",
    "#IP Server, TSAP Client, TSAP Server\n",
    "\n",
    "plc.connect(\"169.254.116.131\", 0x3000, 0x2000)\n",
    "\n",
    "write_to_logo(df_motor_test, plc_connected=plc)\n",
    "\n",
    "print(\"34\")\n",
    "plc.disconnect()\n",
    "print(\"destroy\")\n",
    "plc.destroy()"
   ]
  }
 ],
 "metadata": {
  "kernelspec": {
   "display_name": "ml_9",
   "language": "python",
   "name": "python3"
  },
  "language_info": {
   "codemirror_mode": {
    "name": "ipython",
    "version": 3
   },
   "file_extension": ".py",
   "mimetype": "text/x-python",
   "name": "python",
   "nbconvert_exporter": "python",
   "pygments_lexer": "ipython3",
   "version": "3.9.7"
  }
 },
 "nbformat": 4,
 "nbformat_minor": 2
}
